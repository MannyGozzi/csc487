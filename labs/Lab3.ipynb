{
 "cells": [
  {
   "cell_type": "markdown",
   "metadata": {},
   "source": [
    "# Introduction to FCNN\n",
    "\n",
    "## Learning Objectives\n",
    "* Constructing, training, and evaluating a FCNN.\n",
    "\n",
    "## Submission Instructions\n",
    "**After completing the assignments, please upload a PDF output of this notebook.**\n",
    "\n",
    "This is an individual assignment, but you may discuss your code with your neighbors."
   ]
  },
  {
   "cell_type": "code",
   "execution_count": 2,
   "metadata": {},
   "outputs": [],
   "source": [
    "%load_ext autoreload\n",
    "%autoreload 2\n",
    "\n",
    "## BEGIN SOLUTION\n",
    "import joblib\n",
    "answers = {}\n",
    "## END SOLUTION\n",
    "\n",
    "import sys\n",
    "sys.path.insert(0,'..') # change this for your system\n",
    "\n",
    "import numpy as np\n",
    "\n",
    "import py487"
   ]
  },
  {
   "cell_type": "markdown",
   "metadata": {},
   "source": [
    "## Dataset"
   ]
  },
  {
   "cell_type": "code",
   "execution_count": 3,
   "metadata": {},
   "outputs": [
    {
     "data": {
      "image/png": "[encoded data removed]",
      "text/plain": [
       "<Figure size 432x288 with 1 Axes>"
      ]
     },
     "metadata": {
      "needs_background": "light"
     },
     "output_type": "display_data"
    }
   ],
   "source": [
    "import matplotlib.pyplot as plt\n",
    "from sklearn import datasets\n",
    "np.random.seed(4)\n",
    "X, t = datasets.make_blobs(n_samples=100, centers=3, n_features=2, center_box=(0, 10))\n",
    "plt.plot(X[:, 0][t == 0], X[:, 1][t == 0], marker='^',linestyle=\"None\" ,color='yellow')\n",
    "plt.plot(X[:, 0][t == 1], X[:, 1][t == 1], marker='s',linestyle=\"None\",color='orange')\n",
    "plt.plot(X[:, 0][t == 2], X[:, 1][t == 2], marker='o',linestyle=\"None\",color='green')\n",
    "plt.show()"
   ]
  },
  {
   "cell_type": "markdown",
   "metadata": {},
   "source": [
    "## Assignment instructions\n",
    "Construct and evaluate a multi-layer perceptron similar to the XOR example we've reviewed as a class. Evaluation must be carried out on a test set that was not used for training. You must stick to one hidden layer and then the output layer. The number of nodes in the hidden layer is entirely up to you. The decisions on how to code your solution is up to you, but you must use pytorch and structure your solution similar to how we coded the XOR. You can bring the training loop outside the class definition as that was just my preference for the XOR example. You must compute precision, recall, and the f1-score for the testing dataset and provide a breakdown for each class. Be careful about overfitting and show how you checked for overfitting. "
   ]
  },
  {
   "cell_type": "code",
   "execution_count": null,
   "metadata": {},
   "outputs": [],
   "source": []
  }
 ],
 "metadata": {
  "colab": {
   "collapsed_sections": [],
   "name": "Data Science Workshop - Data Analysis Part 1",
   "provenance": []
  },
  "kernelspec": {
   "display_name": "Python 3 (ipykernel)",
   "language": "python",
   "name": "python3"
  },
  "language_info": {
   "codemirror_mode": {
    "name": "ipython",
    "version": 3
   },
   "file_extension": ".py",
   "mimetype": "text/x-python",
   "name": "python",
   "nbconvert_exporter": "python",
   "pygments_lexer": "ipython3",
   "version": "3.9.7"
  }
 },
 "nbformat": 4,
 "nbformat_minor": 4
}
